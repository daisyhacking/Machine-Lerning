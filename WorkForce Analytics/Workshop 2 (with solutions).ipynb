{
 "cells": [
  {
   "cell_type": "markdown",
   "metadata": {},
   "source": [
    "##                      WORKSHOP 2: ORGANIC DATA GENERATION II\n",
    "In this second workshop, we will continue to derive new variables, this time focusing on natural language processing (NLP) tools.  \n",
    "\n"
   ]
  },
  {
   "cell_type": "markdown",
   "metadata": {},
   "source": [
    "### TASK 1: Exploring Tokenization and POS-Tagging \n",
    "Some of us may have used the word_tokenize module from the nltk package in Workshop 1. For those who didn't, let's try it again to see how it takes in text and separates it into a list of words like this:\n",
    "\n",
    " \n",
    "`words = nltk.word_tokenize(text)`\n",
    "\n",
    "\n",
    "\n",
    "Next, let's also explore the part-of-speech tagger (POS tagger). A part of speech tagger takes in a list of words and assigns it tag so that we can distinguish noun, verb, adjective, etc. The output is a list of tuples, where the first item in the tuple is the word and the second item is the tag.  \n",
    "\n",
    "\n",
    "`tagged_words = nltk.pos_tag(list_of_words)`\n",
    "\n",
    "\n",
    "For a full list of tags, see: https://www.ling.upenn.edu/courses/Fall_2003/ling001/penn_treebank_pos.html\n",
    "\n",
    "<hr >\n",
    "\n",
    "**_Hint_: Looping through a list of tuples**\n",
    "Looping through a list of tuples is quite similar to looping through a simple list. \n",
    "Say you have a list xy_list =[(x1, y1), (x2, y2), (x3, y3)....] and you want to extract only the x's:\n",
    "\n",
    "\n",
    "\n",
    "`x_list=[]` <br>\n",
    "`for (x,y) in xy_list:`<br>\n",
    "     \n",
    "     x_list.append(x)"
   ]
  },
  {
   "cell_type": "markdown",
   "metadata": {},
   "source": [
    "### TASK 2: POS-tagging personal summaries\n",
    "We will read in the (new) employees DataFrame that we saved as a pickle file in Workshop 1. Then, we will pos_tag each summary to create a new list `tagged_summary`.\n"
   ]
  },
  {
   "cell_type": "code",
   "execution_count": 23,
   "metadata": {
    "collapsed": true
   },
   "outputs": [],
   "source": [
    "import pandas as pd\n",
    "import nltk\n",
    "\n",
    "# Reading in Pickle File\n",
    "employees_df = pd.read_pickle('./Data/employees_df.pkl')\n",
    "\n",
    "# Generating tagged_summary list \n",
    "tagged_summary =[]\n",
    "for s in employees_df.personal_summary:\n",
    "    words = nltk.word_tokenize(s)\n",
    "    tagged_words = nltk.pos_tag(words)\n",
    "    tagged_summary.append(tagged_words)\n",
    "\n",
    "\n"
   ]
  },
  {
   "cell_type": "markdown",
   "metadata": {},
   "source": [
    "### TASK 3: Revisiting summary sentiments\n",
    "In workshop 1, we assigned a sentiment score to each summary using the full summary text. What if we just use adjectives? Is this more appropriate than using every word in the summary?\n",
    "\n",
    "In this task, we will repeat the SentimentIntensityAnalyzer from Workshop 1, but only for the adjectives in the summary. Lets create a new column in employees_df, `adjective_positivity`, which measures the positiveness of the adjectives used. Note that the pos-tags for adjectives are JJ, JJR, JJS.  \n",
    "\n",
    "Once done, check the correlation between summary_positivity and adjective_positivity. What does this insinuate? \n",
    "\n"
   ]
  },
  {
   "cell_type": "code",
   "execution_count": 24,
   "metadata": {},
   "outputs": [
    {
     "data": {
      "text/plain": [
       "array([[ 1.        ,  0.45294297],\n",
       "       [ 0.45294297,  1.        ]])"
      ]
     },
     "execution_count": 24,
     "metadata": {},
     "output_type": "execute_result"
    }
   ],
   "source": [
    "import numpy as np\n",
    "from nltk.corpus import stopwords\n",
    "from nltk.sentiment.vader import SentimentIntensityAnalyzer\n",
    "sid = SentimentIntensityAnalyzer()\n",
    "\n",
    "\n",
    "adjective_positivity=[]\n",
    "adjective_list =['JJ', 'JJR', 'JJS']\n",
    "\n",
    "for s in tagged_summary:\n",
    "    word_list = [wrd for (wrd,tg) in s if tg in adjective_list]\n",
    "    refined_list = [word for word in word_list if word not in stopwords.words('english')]\n",
    "    pos_words=0\n",
    "    neg_words=0\n",
    "    neu_words=0\n",
    "    for word in refined_list:\n",
    "        sent = sid.polarity_scores(word)\n",
    "        if  sent['pos'] > sent['neg']:\n",
    "            pos_words+=1\n",
    "        elif sent['pos'] < sent['neg']:\n",
    "            neg_words+=1\n",
    "        else:\n",
    "            neu_words+=1\n",
    "    numerator = pos_words\n",
    "    denominator = pos_words+neg_words+neu_words\n",
    "    denominator = max(denominator,1)  # to avoid dividing by 0\n",
    "    sent_score = numerator/float(denominator)       \n",
    "    adjective_positivity.append(sent_score)\n",
    "\n",
    "employees_df['adjective_positivity'] = adjective_positivity     \n",
    "\n",
    "# Checking the correlation coefficient\n",
    "np.corrcoef(adjective_positivity, employees_df.summary_positivity)"
   ]
  },
  {
   "cell_type": "markdown",
   "metadata": {},
   "source": [
    "#### TASK 3B _Optional_: Visualizing the difference in sentiments by department\n",
    "The aim of this task is to create grouped box-plots to examine if and how redefining how we measure sentiment changes the conclusions we drew about department-level satisfaction. \n",
    "\n",
    "Similar to what we did with grouped bar charts, we can generate grouped box-plots by playing with the positions of boxes. You can read more here: https://stackoverflow.com/questions/16592222/matplotlib-group-boxplots\n",
    "\n",
    "\n",
    "To complete this task, we will need three nested lists, one for each department. Lets name these `finance_scores`, `InE_scores`, and `management_scores`. Each list will contain two lists, the first is the list of sentiment scores for the department using the full text and the second using only adjectives. Specifically, `finance_scores = [[summary_positivity for dept], [adjective_positivity for dept]].`\n",
    "\n",
    "Once all three lists are generated, we can plot the grouped boxplots like this:\n",
    "\n",
    "`\n",
    "bp = plt.boxplot(finance_scores, positions = [2, 3], widths = 0.5)\n",
    "bp =  plt.boxplot(InE_scores, positions = [5, 6], widths = 0.5)\n",
    "bp =  plt.boxplot(management_scores, positions = [8, 9], widths = 0.5)\n",
    "`\n",
    "\n",
    "\n"
   ]
  },
  {
   "cell_type": "code",
   "execution_count": 25,
   "metadata": {},
   "outputs": [
    {
     "data": {
      "image/png": "[encoded data removed]",
      "text/plain": [
       "<matplotlib.figure.Figure at 0x1a7a3358668>"
      ]
     },
     "metadata": {},
     "output_type": "display_data"
    }
   ],
   "source": [
    "import matplotlib.pyplot as plt\n",
    "# This makes plots appear in the notebook\n",
    "%matplotlib inline\n",
    "\n",
    "\n",
    "def locate_in_list(list_of_items,element):\n",
    "    item_idx= [i for i, x in enumerate(list_of_items) if x == element]\n",
    "    return(item_idx)\n",
    "\n",
    "# First, generating the values on the x-axis and saving them in X AND generating the values in each boxplot (bp), and saving them in bp\n",
    "unique_depts = list(np.unique(employees_df.department))\n",
    "\n",
    "# Initializing empty lists\n",
    "finance_scores = []\n",
    "InE_scores=[] \n",
    "management_scores=[]\n",
    "\n",
    "\n",
    "# Looping through departments to populate the three nested lists \n",
    "for dept in unique_depts:\n",
    "    dept_idx = locate_in_list(list(employees_df.department), dept)\n",
    "    senti_scores = [employees_df.summary_positivity[x] for x in dept_idx]\n",
    "    adj_scores = [employees_df.adjective_positivity[x] for x in dept_idx]\n",
    "    if dept =='Department of Finance':\n",
    "        finance_scores =[senti_scores,adj_scores]\n",
    "    elif dept == 'Department of Innovation and Entrepreneurship':\n",
    "        InE_scores =[senti_scores, adj_scores]\n",
    "    else: \n",
    "        management_scores =[senti_scores, adj_scores]\n",
    "\n",
    "# Changing boxplot color\n",
    "def colorize_boxplot_pair(bp_pair):\n",
    "    boxplot_boxes = bp_pair['boxes']\n",
    "    boxplot_boxes[0].set(color='red')\n",
    "    boxplot_boxes[1].set(color='blue')\n",
    "    \n",
    "# Adding Legend\n",
    "import matplotlib.patches as mpatches\n",
    "def add_legend():\n",
    "    patch1 = mpatches.Patch(color='red')\n",
    "    patch2 = mpatches.Patch(color='blue')\n",
    "    label1 = 'Full Summary'\n",
    "    label2 = 'Adjectives Only'\n",
    "    \n",
    "    plt.legend([patch1,patch2],[label1, label2])\n",
    "            \n",
    "# Plotting boxplot for length of summary\n",
    "bp = plt.boxplot(finance_scores, positions = [2, 3], widths = 0.5)\n",
    "colorize_boxplot_pair(bp)\n",
    "bp =  plt.boxplot(InE_scores, positions = [5, 6], widths = 0.5)\n",
    "colorize_boxplot_pair(bp)\n",
    "bp =  plt.boxplot(management_scores, positions = [8, 9], widths = 0.5)\n",
    "colorize_boxplot_pair(bp)\n",
    "add_legend()\n",
    "\n",
    "# Setting lower limit of x\n",
    "plt.xlim(left=1.5)\n",
    "\n",
    "# Setting xticks\n",
    "plt.xticks([2, 5, 8], unique_depts, rotation = 45)\n",
    "\n",
    "\n",
    "\n",
    "#  Setting a title, and axes labels\n",
    "plt.title('Comparing sentiment scores')\n",
    "plt.show()\n",
    "    "
   ]
  },
  {
   "cell_type": "markdown",
   "metadata": {},
   "source": [
    "### TASK 4: Generating a similarity score. \n",
    "#### STEP 1: Start by creating a definition to extract nouns\n",
    "\n",
    "We'll measure the similarity between employees as a function of the commonality/overlap in the nouns in their personal summaries. Why do you think using nouns is important here? \n",
    "\n",
    "Let's change things up a bit, and create a definition/function that extracts only nouns. Creating functions is quite useful as they can be reused.\n",
    "\n",
    "The steps are as follows: \n",
    ">- First, tokenize the text using nltk.word_tokenize(text).\n",
    ">- Second, use part-of-speech tagger to tag the words outputted in \n",
    ">- Third, loop through tags and keep only nouns (create a list of nouns). Nouns have the following tags keep nouns only (nn, nns, nnp, nnps)  \n",
    "\n",
    "<hr>\n",
    "**_Hint _**: The example below shows a function that returns the sum of two input variables (a, b). A function has a name (e.g., sum_two_numbers) and input variables (e.g., a, b). Then it performs an operation, and returns a value (e.g., sum_equals). \n",
    "\n",
    "`\n",
    "\n",
    "def sum_two_numbers(a, b):<br>\n",
    "   > sum_equals = a+b <br>\n",
    "    return sum_equals <br>\n",
    "\n",
    "\n",
    "`\n"
   ]
  },
  {
   "cell_type": "code",
   "execution_count": 26,
   "metadata": {
    "collapsed": true
   },
   "outputs": [],
   "source": [
    "def extract_nouns(text):\n",
    "    # use tokenizer to split text into individual words\n",
    "    words = nltk.word_tokenize(text)    \n",
    "    # use tagger to categorize all words\n",
    "    tags = nltk.pos_tag(words)\n",
    "    # keep nouns only (nn, nns, nnp, nnps)\n",
    "    only_nouns = []\n",
    "    for word, pos in tags: \n",
    "        if (pos == 'NN' or pos == 'NNS' or pos == 'NNP' or pos == 'NNPS'):\n",
    "            only_nouns.append(word.lower())\n",
    "    return only_nouns  "
   ]
  },
  {
   "cell_type": "markdown",
   "metadata": {},
   "source": [
    "#### TASK 4, Step 2: Create a function that removes stop words.\n",
    "Previously, we used common English stopwords from the nltk toolkit. That was a quick and easy way of removing common words (stop words). However, we can make it context specific by removing words that commonly appear in the text we are analyzing. Can you think of some advantages of doing this?\n",
    "\n",
    "We will define stop words as words with frequencies in the top quantile. The steps are as follows:\n",
    "\n",
    ">- First, use counts= Counter(word_list) to count the number of words that appears in list. Counter returns a dict. where the counts.keys() are the unique items in word_list and counts.values() are the number of times each key occurs.\n",
    ">-  Second, loop through each key in counts and (i) append key to new_word_list and (ii) calculate freq. as the number of times key (i.e., word) occurs: counts[key] divided by the total number words in the list (i.e., sum(counts.values())\n",
    ">-  Third, if frequency> threshold ( in this case, np.percentile(freq,75)), add the word to the stop list.\n",
    "\n",
    "\n",
    "\n"
   ]
  },
  {
   "cell_type": "code",
   "execution_count": 27,
   "metadata": {
    "collapsed": true
   },
   "outputs": [],
   "source": [
    "from collections import Counter\n",
    "\n",
    "def stop_words(word_list):\n",
    "    counts = Counter(word_list)\n",
    "    stop_list =[];\n",
    "    new_word_list=[]\n",
    "    freq=list(counts.values())\n",
    "    for i in range(len(freq)):\n",
    "        if freq[i] > np.percentile(freq,.75):\n",
    "            stop_list.append(list(counts.keys())[i])\n",
    "        else:\n",
    "            new_word_list.append(list(counts.keys())[i])\n",
    "    return (new_word_list, stop_list)"
   ]
  },
  {
   "cell_type": "markdown",
   "metadata": {},
   "source": [
    "#### TASK 4, Step 3: Define similarity.\n",
    "Create a definition for the  similarity of two lists as the number of items in the intersection of lst1 & lst2 divided by the number of items in the union of lst1 and lst2.\n",
    "\n",
    "To simplify thist task, I have defined intersect and union for you.\n",
    "\n",
    "**_Note_**: In your definition, you will need to include an if statement which returns a value of 0 for similarity if the union of the two lists is empty\n"
   ]
  },
  {
   "cell_type": "code",
   "execution_count": 28,
   "metadata": {
    "collapsed": true
   },
   "outputs": [],
   "source": [
    "def intersect(a, b):\n",
    "    return list(set(a) & set(b))\n",
    "def union (a,b):\n",
    "    return  list(set(a).union(b))\n",
    "       \n",
    "def similarity(lst1, lst2):\n",
    "    numerator =  len(intersect(lst1,lst2))\n",
    "    denom = len(union(lst1,lst2))\n",
    "    if not denom:\n",
    "        sim = 0\n",
    "    else:\n",
    "        sim = round(float(numerator)/denom,3)\n",
    "    return sim   \n"
   ]
  },
  {
   "cell_type": "markdown",
   "metadata": {},
   "source": [
    "### TASK 5: Creating a similarity vector for each employee \n",
    "In this task, we will create a similarity vector for each employee which should reflect that person's similarity to all other employees. A vector for person one will look something like this similarity_vector= [s11,s12, s13, ....., s1n], where sij is the similarity of person i to person j. Once the vector is generated, we will add it to a dictionary, `similarity_dict`, where keys are person_id's (i.e., `employees_df.person_id[i]`] and and values are these similar vectors.\n",
    "\n",
    "The following steps will help:\n",
    "- First, we want to remove all stop words from employee summaries. To do this, we will need to create a text comprising of all summaries. This step is important because we want to calculate the frequency of words across all the text.  \n",
    ">- Use the `join` command to join all summaries together, and tokenize.\n",
    ">- Call the `stop_word` function.\n",
    "\n",
    "- Using a nested for loop, populate a similarity vector for each employee, then add each vector to `similarity_dict`  \n",
    "\n",
    "<hr>\n",
    "\n",
    "**_Hint _**: You'll be looping through person_id twice so that you can compare person_id[i] to person_id[j]:\n",
    "\n",
    "\n",
    "`\n",
    "for i in range(len(employees_df.personal_summary)):   \n",
    "    \n",
    "    sim_vect = []\n",
    "    \n",
    "    for j in range(len(employees_df.personal_summary)):\n",
    "        # CODE TO FIND SIMILARITY SCORE BETWEEN i an j's GOES HERE, VALUE APPENDED TO sim_vect   \n",
    "    \n",
    "    CODE TO ADD sim_vect TO similarity_dict {}   \n",
    "`\n"
   ]
  },
  {
   "cell_type": "code",
   "execution_count": 29,
   "metadata": {
    "collapsed": true
   },
   "outputs": [],
   "source": [
    "import string\n",
    "\n",
    "# join can help us concatenate items in a list into a single item. I use it here to create a single text out of all personal summaries.\n",
    "all_summaries= ' '.join(list(employees_df.personal_summary))\n",
    "\n",
    "\n",
    "#Tokenize\n",
    "all_summaries_words= nltk.word_tokenize(all_summaries)\n",
    "\n",
    "# Remove all punctuation\n",
    "things_to_exclude = set(string.punctuation)\n",
    "#all_summaries_clean = ''.join(p for p in all_summaries if p not in things_to_exclude)\n",
    "all_summaries_clean=[]\n",
    "for item in all_summaries_words:\n",
    "    if item not in things_to_exclude:\n",
    "        all_summaries_clean.append(item)\n",
    "    \n",
    "\n",
    "# Removing stop words from all summaries\n",
    "(new_wordlist, stop_words) = stop_words(all_summaries_clean)\n",
    "\n",
    "\n",
    "\n",
    "# Creating a \"universal\" list of nouns (without stop words)\n",
    "noun_list = ['NN', 'NNS', 'NNP', 'NNPS']\n",
    "tagged_wordlist = nltk.pos_tag(all_summaries_clean)\n",
    "new_wordlist_nouns=[]\n",
    "for x,y in tagged_wordlist:\n",
    "    if y in noun_list and y not in stop_words:\n",
    "        new_wordlist_nouns.append(x)\n",
    "\n",
    "        \n",
    "# Next, compare pairs of employees and create a summary score.\n",
    "similarity_dict ={}\n",
    "\n",
    "# Loop through to create a similarity score between pairs of employees.\n",
    "for i in range(len(employees_df.personal_summary)):\n",
    "    sim_vect = []\n",
    "    s1 =  intersect(nltk.word_tokenize(employees_df.personal_summary[i]), new_wordlist_nouns)\n",
    "    for j in range(len(employees_df.personal_summary)):\n",
    "        s2 =  intersect(nltk.word_tokenize(employees_df.personal_summary[j]), new_wordlist_nouns) \n",
    "        sim_vect.append(similarity(s1,s2))\n",
    "    similarity_dict[employees_df.person_id[i]]= sim_vect    \n",
    "      "
   ]
  },
  {
   "cell_type": "markdown",
   "metadata": {},
   "source": [
    "### TASK 6: Measuring within-department and out-of-department similarity between colleagues \n",
    "In this task, we will loop through the employees in our sample and create an average in-department similarity score, which measures the average similarity score between that individual and others in the same department and a second out-of-department similarity score, which measures the average similarity score to colleagues from different departments. \n",
    "\n",
    "We'll create two lists, `dept_similarity` which contains the average similarity scores of each individual with others in the department. We'll also create `outdept_similarity` which is a list containing average similarity scores of each individual with colleagues in other departments. How do they differ and why?\n"
   ]
  },
  {
   "cell_type": "code",
   "execution_count": 30,
   "metadata": {
    "collapsed": true
   },
   "outputs": [],
   "source": [
    "dept_similarity=[]\n",
    "outdept_similarity=[]\n",
    "for i in range(len(employees_df.person_id)):\n",
    "    pid = employees_df.person_id[i]\n",
    "    dept = employees_df.department[i]\n",
    "    dept_idx = locate_in_list(list(employees_df.department), dept) \n",
    "    sim_scores = similarity_dict[pid]\n",
    "    dept_similarity.append(np.mean([sim_scores[x] for x in range(len(sim_scores)) if x in dept_idx]))\n",
    "    outdept_similarity.append(np.mean([sim_scores[x] for x in range(len(sim_scores)) if x not in dept_idx]))    \n",
    "\n",
    "employees_df['dept_similarity']= dept_similarity\n",
    "employees_df['outdept_similarity'] = outdept_similarity"
   ]
  },
  {
   "cell_type": "markdown",
   "metadata": {},
   "source": [
    "### TASK 7 _optional_: Visualize the difference between in- and out-of department similarity\n",
    "A box plot is a good tool for examining the differences between the two similarity scores we created. Another alternative is a jitter plot, which can be generated the way we would a scatter plot, but with some \"noise\" added to the data.    \n",
    "\n"
   ]
  },
  {
   "cell_type": "code",
   "execution_count": 31,
   "metadata": {},
   "outputs": [
    {
     "data": {
      "image/png": "[encoded data removed]",
      "text/plain": [
       "<matplotlib.figure.Figure at 0x1a7a73fc780>"
      ]
     },
     "metadata": {},
     "output_type": "display_data"
    }
   ],
   "source": [
    "def generate_jitter_plot(dept_similarity, outdept_similarity):\n",
    "    dept_x_pos = 2\n",
    "    outdept_x_pos = 4\n",
    "    spread = 0.5\n",
    "    \n",
    "    dept_x_values = np.repeat(dept_x_pos, len(dept_similarity)) + np.random.uniform(-spread, spread, len(dept_similarity))\n",
    "    outdept_x_values = np.repeat(outdept_x_pos, len(dept_similarity)) + np.random.uniform(-spread, spread, len(dept_similarity))\n",
    "    \n",
    "    marker_size = 5    \n",
    "    dept = plt.scatter(dept_x_values, dept_similarity, s=marker_size)#, color='red')\n",
    "    out_dept = plt.scatter(outdept_x_values, outdept_similarity, s=marker_size)#, color='blue')\n",
    "    \n",
    "    plt.xlim(0,6)\n",
    "    plt.xticks([2,4], ['in-department', 'out-of-department'])\n",
    "    plt.title('Similarity Scores')\n",
    "    \n",
    "generate_jitter_plot(dept_similarity, outdept_similarity)"
   ]
  },
  {
   "cell_type": "markdown",
   "metadata": {},
   "source": [
    "### TASK 8: Saving our new data\n",
    "Our employees_df has even more rows now. Let's save it using `employees_df.to_pickle` as we did last time. Let's also save `similarity_dict`, as we will use this to generate our networks and clusters."
   ]
  },
  {
   "cell_type": "code",
   "execution_count": 32,
   "metadata": {
    "collapsed": true
   },
   "outputs": [],
   "source": [
    "# Saving employees_df\n",
    "employees_df.to_pickle('./Data/employees_df.pkl')\n",
    "\n",
    "# Converting similarity_dict to pickle\n",
    "sim_data = []\n",
    "for key in similarity_dict:\n",
    "    sim_data.append({'person_id': key, 'similarity_vector': similarity_dict[key]})\n",
    "similarity_df = pd.DataFrame(data=sim_data)    \n",
    "\n",
    "# Saving similarity_df\n",
    "similarity_df.to_pickle('./Data/similarity_df.pkl')\n"
   ]
  }
 ],
 "metadata": {
  "kernelspec": {
   "display_name": "Python 3",
   "language": "python",
   "name": "python3"
  },
  "language_info": {
   "codemirror_mode": {
    "name": "ipython",
    "version": 3
   },
   "file_extension": ".py",
   "mimetype": "text/x-python",
   "name": "python",
   "nbconvert_exporter": "python",
   "pygments_lexer": "ipython3",
   "version": "3.7.3"
  }
 },
 "nbformat": 4,
 "nbformat_minor": 2
}
