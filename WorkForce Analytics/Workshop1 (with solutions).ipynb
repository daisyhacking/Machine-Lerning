{
 "cells": [
  {
   "cell_type": "markdown",
   "metadata": {},
   "source": [
    "#                      WORKSHOP 1: ORGANIC DATA GENERATION I\n",
    "\n",
    "In this first workshop, we will explore the datasets by generating summary statistics and summary visuals, preprocess them to prepare for analysis, and generate new data that will help us understand the predictors of employee performance and satisfaction.     \n"
   ]
  },
  {
   "cell_type": "markdown",
   "metadata": {},
   "source": [
    "## About the datasets\n",
    "\n",
    "The datasets we will use in this workshop series are about current faculty members at Imperial College Business School. There are three CSV files that we will use for our analysis, but also as seeds for generating more data. The end goal is to predict key factors that drive (or hinder) employee performance. We will wrap up by discussing the generalizability of this datasets to contexts outside of the business school and, more generally, outside of academia. \n",
    "\n",
    "The three datasets are as follows:\n",
    "- ** `employee_data.csv` ** is a dataset that contains each faculty member's `department`, `last_name`, `first_name`, Titles (`title1` is a general title, and `title2` is more specific), `personal_summary` (which is the summary written by an individual about him- or herself) and a unique `person_id`.\n",
    "\n",
    "- ** `employee_publications.csv`** is a dataset that contains `person_id`,`coauthors` (which are the names of all authors on a publication),`title` of the publication, `journal` (which is the name of the journal), `year` of publication and finally, `citations` received by each publication.   \n",
    "\n",
    "- ** `employee_performance.csv`** is a dataset that contains `person_id`, total `citations` that the person received, `citations_5yr` that a person received in their lifetime, `hindex`, is an index used to describe an author's productivity, `hindex_5yr` is the h-index over the last 5 years, `i10index`, is a google scholar index counting the number of publications with at least 10 citations, `i10index_5yr` is the same measure over the last 5 years.      \n"
   ]
  },
  {
   "cell_type": "markdown",
   "metadata": {},
   "source": [
    "## TASK 1: Explore employee_data.csv\n",
    "\n",
    "\n",
    "- Task 1.1: Read in data\n",
    "     - Let's begin by reading in ./Data/employee_data.csv and saving it into a Pandas DataFrame named `employees_df`.  \n",
    "     - You can use pd.read_csv to read in a dataset into a dataframe: [This link will help](https://pandas.pydata.org/pandas-docs/stable/generated/pandas.read_csv.html)   \n",
    "- Task 1.2: How many departments are there?\n",
    "\n",
    "- Task 1.3: How many people are in each department? Let's create a dictionary, `dept_dict`, where department names are keys and number of employees in each department are values.    \n",
    "\n",
    "- Task 1.4 _[Optional Task]_: Lets plot a bar chart to visualize the difference between departments. \n",
    "\n",
    "<hr>\n",
    "\n",
    "**_Hint 1_: Improving the look of vertical and horizontal bar charts** \n",
    "> If you're not organizing your charts in alphabetical order, its visually more pleasing to have the bars in descending hights from left to right for a bar chart, and from top to bottom for a horizontal bar chart.  \n",
    "\n",
    "**_Hint 2_: Generating dictionaries**\n",
    "> To generate a dictionary, first start with an empty dictionary: `dept_dict = {}`, then you can populate the dictionary like this: \n",
    "```dept_dict[key_name]=value_for_key\n",
    "```\n",
    "\n"
   ]
  },
  {
   "cell_type": "code",
   "execution_count": 1,
   "metadata": {
    "collapsed": true
   },
   "outputs": [],
   "source": [
    "import pandas as pd\n",
    "import numpy as np\n",
    "\n",
    "# Read datasets/nytkids_yearly.csv into employees_df.\n",
    "employees_df = pd.read_csv('./Data/employee_data.csv' , encoding='latin1', keep_default_na=False)\n",
    "\n",
    "# You can uncomment the following line to explore the first few rows of the dataset.\n",
    "# employees_df.head()\n",
    "\n",
    "# Counting the number of departments \n",
    "unique_depts = np.unique(employees_df.department)\n",
    "\n",
    "# Counting the number of people per department, and adding it to dept_dict\n",
    "# Counting the number of people per department\n",
    "dept_dict={}\n",
    "for dept in unique_depts:\n",
    "    dept_dict[dept]=len([x for x in employees_df.department if x in dept])\n",
    "    \n"
   ]
  },
  {
   "cell_type": "code",
   "execution_count": 2,
   "metadata": {},
   "outputs": [
    {
     "data": {
      "text/plain": [
       "<matplotlib.text.Text at 0x2877d7b3a58>"
      ]
     },
     "execution_count": 2,
     "metadata": {},
     "output_type": "execute_result"
    },
    {
     "data": {
      "image/png": "[encoded data removed]",
      "text/plain": [
       "<matplotlib.figure.Figure at 0x2877afe5208>"
      ]
     },
     "metadata": {},
     "output_type": "display_data"
    }
   ],
   "source": [
    "# Visualizing employees per department\n",
    "# Importing matplotlib\n",
    "\n",
    "import matplotlib.pyplot as plt\n",
    "# This makes plots appear in the notebook\n",
    "%matplotlib inline\n",
    "\n",
    "# Sorting in descending order\n",
    "sorted_keys = sorted(dept_dict, key=dept_dict.get, reverse=True)\n",
    "sorted_vals = [dept_dict[dept] for dept in sorted_keys]\n",
    "\n",
    "# Creating pos, a list containing indexes of unknown_by_yr\n",
    "pos = range(len(sorted_keys))\n",
    "\n",
    "# Plotting the bar chart\n",
    "plt.bar(pos,  sorted_vals,  width =0.25, color='gray') \n",
    "\n",
    "# Setting xticks to have the same `pos` as bars \n",
    "plt.xticks(pos, sorted_keys, rotation = 45)\n",
    "\n",
    "#  Setting a title, and axes labels\n",
    "plt.title('Number of employees')"
   ]
  },
  {
   "cell_type": "markdown",
   "metadata": {},
   "source": [
    "## TASK 2: A column for colleagues\n",
    "\n",
    "We can now generate our first \"organic\" column. Let's first loop through each row of employees_df (I'll use `department`), and add the number of colleagues, which we will define as the number of people in the focal person's department. Create a new column `colleagues`, and add it to `employees_df`       \n",
    "\n",
    "<hr>\n",
    "**_Hint _: Adding a new column to a DataFrame**\n",
    "- You can add a list (`new_list`) to an existing DataFrame like this:\n",
    "\n",
    "`\n",
    "employees_df[col_name]=new_list\n",
    "`"
   ]
  },
  {
   "cell_type": "code",
   "execution_count": 3,
   "metadata": {
    "collapsed": true
   },
   "outputs": [],
   "source": [
    "# Initialize list_of_colleagues\n",
    "list_of_colleagues=[]\n",
    "\n",
    "# Loop through employees_df.department and populate list_of_colleagues\n",
    "for dept in employees_df.department:\n",
    "    # find the value of key ['dept'] from dept_dict\n",
    "    list_of_colleagues.append(dept_dict[dept])\n",
    "    \n",
    "# Add list of colleagues to employees_df    \n",
    "employees_df['colleagues']=list_of_colleagues\n",
    "    "
   ]
  },
  {
   "cell_type": "markdown",
   "metadata": {},
   "source": [
    "## TASK 3: A proxy for employee enthusiasm\n",
    "The `personal_summary` column in `employees_df` is usually a piece of text that every faculty member writes about himself or herself. Can we measure employee enthusiasm for the job by the size of the text? the sentiment of the text? Before we implement this, lets take a few minutes to think about how good this proxy actually is.  \n"
   ]
  },
  {
   "cell_type": "markdown",
   "metadata": {},
   "source": [
    "#### Task 3A: Counting the number of words\n",
    "\n",
    "- Let's first loop through each `personal_summary` in `employees_df` and count the number of words. Save this as a list, `tot_words`\n",
    "- Next, let's refine our definition a little and remove common words, _stopwords_, from tot_words \n",
    "\n",
    "<hr>\n",
    "**_Hint 1_: Counting** Do a quick google search on `nltk.word_tokenize(some_str)`, and compare this to len(some_str). What does each do? Which is more applicable in this context? \n",
    "\n",
    "**_Hint 2_: Stop words** you can get a list of stopwords using  `stopwords.words('english')`"
   ]
  },
  {
   "cell_type": "code",
   "execution_count": 4,
   "metadata": {
    "collapsed": true
   },
   "outputs": [],
   "source": [
    "import nltk\n",
    "from nltk.corpus import stopwords\n",
    "\n",
    "\n",
    "# Initialize `tot_words`\n",
    "tot_words=[]\n",
    "\n",
    "# Loop through `personal_summary` and populate tot_words\n",
    "for s in employees_df.personal_summary:\n",
    "    word_list = nltk.word_tokenize(s)\n",
    "    refined_list = [word for word in word_list if word not in stopwords.words('english')]\n",
    "    tot_words.append(len(refined_list))\n",
    "\n",
    "# Add tot_words to employees_df as a column labelled `summary_length`   \n",
    "employees_df['summary_length'] = tot_words   "
   ]
  },
  {
   "cell_type": "markdown",
   "metadata": {},
   "source": [
    "#### Task 3B [_optional_]: Sentiment of the summary\n",
    "\n",
    "- Using the SentimentIntensityAnalyzer from the nltk toolbox, we will analyze the polarity (i.e., positiveness or negativeness) of all words in each summary, excluding stop words. Using this, we will generate a new column, `summary_positivity`, which is measured as num_positive_words/(num_pos_words+num_negative_words). We will use a nested for-loop using the following steps:\n",
    "\n",
    "> - for each summary, we will extract the list of words, then remove stop words. Let's call this `refined_list`\n",
    "> - Then, for each word in `refined_list`, we will examine polarity using SentimentIntensityAnalyzer()\n",
    "> - If the positive polarity of the word > the negative polarity of the word, we will say this is a positive words. If the positive polarity of the word is < the negative polarity, we will say this is a negative word. Otherwise, we will deem it to be neutral.\n",
    "> - We will then use the total number of positive and negative words to calculate the extent of positivity, and append that value the list `summary_positivity` \n",
    "\n",
    "- Check if the summary_sentiment is correlated to summary_length. What is the score? What does this mean? Specifically, what do they measure in common and what do they capture differently? \n",
    "\n",
    "<hr>\n",
    "\n",
    "**_Hint _**: To SentimentIntensityAnalyzer, first import the module:\n",
    "\n",
    "`\n",
    "from nltk.sentiment.vader import SentimentIntensityAnalyzer\n",
    "sid = SentimentIntensityAnalyzer()\n",
    "`\n",
    "\n",
    "Then, you can check the polarity of a word using code like this:\n",
    "\n",
    "\n",
    "`\n",
    "sent = sid.polarity_scores('happy')\n",
    "\n",
    "`"
   ]
  },
  {
   "cell_type": "code",
   "execution_count": 5,
   "metadata": {},
   "outputs": [
    {
     "data": {
      "text/plain": [
       "array([[ 1.        ,  0.16774327],\n",
       "       [ 0.16774327,  1.        ]])"
      ]
     },
     "execution_count": 5,
     "metadata": {},
     "output_type": "execute_result"
    }
   ],
   "source": [
    "from nltk.sentiment.vader import SentimentIntensityAnalyzer\n",
    "sid = SentimentIntensityAnalyzer()\n",
    "\n",
    "summary_positivity=[]\n",
    "for s in employees_df.personal_summary:\n",
    "    word_list = nltk.word_tokenize(s)\n",
    "    refined_list = [word for word in word_list if word not in stopwords.words('english')]\n",
    "    pos_words=0\n",
    "    neg_words=0\n",
    "    neu_words=0\n",
    "    for word in refined_list:\n",
    "        sent = sid.polarity_scores(word)\n",
    "        if  sent['pos'] > sent['neg']:\n",
    "            pos_words+=1\n",
    "        elif sent['pos'] < sent['neg']:\n",
    "            neg_words+=1\n",
    "        else:\n",
    "            neu_words+=1\n",
    "    numerator = pos_words\n",
    "    denominator = pos_words+neg_words+neu_words\n",
    "    denominator = max(denominator,1)  # to avoid dividing by 0\n",
    "    sent_score = numerator/float(denominator)       \n",
    "    summary_positivity.append(sent_score)\n",
    "\n",
    "employees_df['summary_positivity'] = summary_positivity     \n",
    "\n",
    "# Checking the correlation coefficient\n",
    "np.corrcoef(tot_words, summary_positivity)"
   ]
  },
  {
   "cell_type": "markdown",
   "metadata": {},
   "source": [
    "## TASK 4: Does enthusiasm vary by department?\n",
    "We will now explore if and how enthusiasm varies by department, by appending mean values and standard deviations of our enthusiasm proxies (`summary_length` and, if you worked on it, `summary_positivity`) to the `dept_dict`. \n"
   ]
  },
  {
   "cell_type": "code",
   "execution_count": 6,
   "metadata": {
    "collapsed": true
   },
   "outputs": [],
   "source": [
    "# This function returns all indices of an item (item) from within a (list_of_items). \n",
    "def locate_in_list(list_of_items,element):\n",
    "    item_idx= [i for i, x in enumerate(list_of_items) if x == element]\n",
    "    return(item_idx)\n",
    "\n",
    "# Initializing the new department dictionary, dept_dict2\n",
    "dept_dict2={}\n",
    "\n",
    "for dept in dept_dict.keys():\n",
    "    dept_idx = locate_in_list(list(employees_df.department), dept)\n",
    "    summ_lens = [employees_df.summary_length[x] for x in dept_idx]\n",
    "    summ_senti = [employees_df.summary_positivity[x] for x in dept_idx]\n",
    "    enthusiasm_stats = [('mean_summ_length', np.mean(summ_lens)), ('std_summ_length',np.std(summ_lens)), ('mean_summ_senti', np.mean(summ_senti)),('std_summ_senti', np.std(summ_senti))]\n",
    "    dept_dict2[dept]= enthusiasm_stats\n",
    "    \n",
    "    "
   ]
  },
  {
   "cell_type": "markdown",
   "metadata": {},
   "source": [
    "#### Task 4B [_optional_]: Visualizing enthusiasm at the department level. \n",
    "A boxplot works well here because we have multiple values (1 for each employee) per department, and a boxplot will display the distribution of the data. This is important, as it will allow us to see the extent (or lack) of variablility in sentiments. "
   ]
  },
  {
   "cell_type": "code",
   "execution_count": 7,
   "metadata": {},
   "outputs": [
    {
     "data": {
      "image/png": "[encoded data removed]",
      "text/plain": [
       "<matplotlib.figure.Figure at 0x287002d2128>"
      ]
     },
     "metadata": {},
     "output_type": "display_data"
    }
   ],
   "source": [
    "\n",
    "# First, generating the values on the x-axis and saving them in X AND generating the values in each boxplot (bp), and saving them in bp\n",
    "X=[]\n",
    "bp_len=[]\n",
    "bp_senti=[]\n",
    "for dept in dept_dict.keys():\n",
    "    dept_idx = locate_in_list(list(employees_df.department), dept)\n",
    "    X.append(dept)\n",
    "    bp_len.append([employees_df.summary_length[x] for x in dept_idx])\n",
    "    bp_senti.append([employees_df.summary_positivity[x] for x in dept_idx])\n",
    "    \n",
    "# Plotting boxplot for length of summary\n",
    "plt1 = plt.boxplot(bp_len, positions =  pos, widths = 0.6)\n",
    "\n",
    "# Setting xticks\n",
    "plt.xticks(pos, X, rotation = 45)\n",
    "\n",
    "#  Setting a title, and axes labels\n",
    "plt.title('Length of Summary')\n",
    "plt.show()\n",
    "    "
   ]
  },
  {
   "cell_type": "code",
   "execution_count": 8,
   "metadata": {},
   "outputs": [
    {
     "data": {
      "image/png": "[encoded data removed]",
      "text/plain": [
       "<matplotlib.figure.Figure at 0x28700fb7278>"
      ]
     },
     "metadata": {},
     "output_type": "display_data"
    }
   ],
   "source": [
    "# Plotting boxplot for positivity of summary\n",
    "plt2 = plt.boxplot(bp_senti, positions = pos, widths = 0.6)\n",
    "\n",
    "# Setting xticks\n",
    "plt.xticks(pos, X, rotation = 45)\n",
    "\n",
    "#  Setting a title, and axes labels\n",
    "plt.title('Positiveness of Summary')\n",
    "plt.show()\n",
    "    "
   ]
  },
  {
   "cell_type": "markdown",
   "metadata": {},
   "source": [
    "## TASK 5: Guessing genders from names\n",
    "Research has shown that workplace diversity is an important determinant of individual and origanizational performance. We will use the detector module from the gender_guesser package, which you can read more about here: https://pypi.python.org/pypi/gender-guesser/  \n",
    "\n",
    "The following steps will help:\n",
    "- Import gender_guesser\n",
    "- Initialize an empty list, `employee_gender`\n",
    "- Loop through each first_name is employees_df, and guess the gender. \n",
    "    - If the name is female or mostly_female, append `female` to employee_gender\n",
    "    - If the name is male or mostly_male, append `male`\n",
    "    - Otherwise, append `neutral`"
   ]
  },
  {
   "cell_type": "code",
   "execution_count": 9,
   "metadata": {
    "collapsed": true
   },
   "outputs": [],
   "source": [
    "# Importing gender_guesser\n",
    "import gender_guesser.detector as gender\n",
    "d = gender.Detector()\n",
    "\n",
    "# Trying out gender guesser to see how it works\n",
    "#d.get_gender('Dmitry')\n",
    "\n",
    "# Intializing employee_gender list\n",
    "employee_gender=[]\n",
    "\n",
    "# Looping through first names and getting gender. Appending to employee_gender\n",
    "for fname in employees_df.first_name:\n",
    "    gen = d.get_gender(fname)\n",
    "    if gen in ['female', 'mostly_female']:\n",
    "        employee_gender.append('female')\n",
    "    elif gen in ['male', 'mostly_male']:\n",
    "        employee_gender.append('male')\n",
    "    else:\n",
    "        employee_gender.append('neutral')\n",
    "        \n",
    "# adding employee_gender to employees_df\n",
    "employees_df.gender = employee_gender \n"
   ]
  },
  {
   "cell_type": "markdown",
   "metadata": {},
   "source": [
    "## TASK 6 [_Optional_]: Genders by department\n",
    "This task is quite similar to what we did in Task 4. We will create three lists: `dept_name`,`males_in_dept`, `females_in_dept`. We will use the following steps:\n",
    "> - Initialize the three lists, where dept_name contains names of departments, and males_in_dept and females_in_dept are both empty.\n",
    "> - Loop through the departments and, for each department, count the number of males and females.\n",
    "> - Append the gender stats to the lists."
   ]
  },
  {
   "cell_type": "code",
   "execution_count": 10,
   "metadata": {
    "collapsed": true
   },
   "outputs": [],
   "source": [
    "dept_name = list(dept_dict.keys())\n",
    "males_in_dept=[]\n",
    "females_in_dept=[]\n",
    "for dept in dept_name:\n",
    "    dept_idx = locate_in_list(list(employees_df.department), dept)\n",
    "    num_males = len([x for x in dept_idx if employees_df.gender[x]=='male' ])\n",
    "    num_females = len([x for x in dept_idx if employees_df.gender[x]=='female'])\n",
    "    males_in_dept.append(num_males)\n",
    "    females_in_dept.append(num_females)"
   ]
  },
  {
   "cell_type": "markdown",
   "metadata": {},
   "source": [
    "#### TASK 6B [_Optional_]: Visualizing genders\n",
    "A good way to visualize this the differences in gender composition across departments is using a grouped bar chart. This type of chart is good for displaying _variations_ across entities while also _comparing_ two or more groups.\n",
    "\n",
    "The idea is simple -- grouped bar charts are two or more bar charts, with bars with positioned side by side. Specifically, if we have a bar chart for males with pos_m and width = 0.25, all we need to do is set a second bar chart for females with pos_f = pos_m + 0.25. The following steps will help:\n",
    "\n",
    ">- Set pos_m to be the same as pos from the task 1 (**_Hint** for 3 bars, pos can simply be [1,2,3]_)\n",
    ">- Create a new list pos_f, where each element in pos_f = each element in pos_m + 0.25.\n",
    ">- Call the plt.bar function for males_in_dept and again for females_in_dept\n",
    ">- Add the relevent tick labels, axes labels and title."
   ]
  },
  {
   "cell_type": "code",
   "execution_count": 11,
   "metadata": {},
   "outputs": [
    {
     "data": {
      "text/plain": [
       "<matplotlib.text.Text at 0x28702bac1d0>"
      ]
     },
     "execution_count": 11,
     "metadata": {},
     "output_type": "execute_result"
    },
    {
     "data": {
      "image/png": "[encoded data removed]",
      "text/plain": [
       "<matplotlib.figure.Figure at 0x28702b77588>"
      ]
     },
     "metadata": {},
     "output_type": "display_data"
    }
   ],
   "source": [
    "# Setting pos_m to be the same as pos from task 1\n",
    "pos_m=pos\n",
    "\n",
    "# Creating a new list pos_f, where each element in pos_f = each element in pos_m + 0.25.\n",
    "pos_f = [p + 0.25 for p in pos_m]\n",
    "\n",
    "# Calling the plt.bar function for males_by_yr\n",
    "plt.bar(pos_m,  males_in_dept,  width = 0.25, color='lightblue') \n",
    "\n",
    "# Calling the plt.bar function for females_by_yr\n",
    "plt.bar(pos_f,  females_in_dept,  width = 0.25, color='pink') \n",
    "\n",
    "# Adding the relevent tick labels, Axes labels and Chart Title \n",
    "plt.xticks(pos_m,dept_name, rotation = 45)\n",
    "plt.title('Genders Distribution of Staff')"
   ]
  },
  {
   "cell_type": "markdown",
   "metadata": {},
   "source": [
    "## TASK 7: Ethnic Distribution of Employees\n",
    "We'll use the pred_wiki_ln module from the `ethnicolr` package to guess the enthnicity of employees from their last names. You can read more about here: https://pypi.python.org/pypi/ethnicolr.\n",
    "\n",
    "The module does the work for you! You give it a DataFrame , and the name of the column containing the last names, and it will automatically generate an ethnicity column (labelled `race`). \n",
    "\n",
    "The race column is quite specific (e.g., it will give output like: GreaterEuropean,WestEuropean,French). Since we do not have many employees, we will use a more general definition, which contains only the first descriptor (i.e., GreaterEuropean in this case). To do this, we will loop through the race column, and create a new race column (`ethnicity`). \n",
    "\n",
    "<hr>\n",
    "**_Hint _**: you may find the string operation, split, quite handy here. It works like this: \n",
    "\n",
    "`\n",
    "x = ‘blue,red,green’\n",
    "x.split(“,”)\n",
    "`\n",
    "\n",
    "and you can read more here:\n",
    "http://www.pythonforbeginners.com/dictionary/python-split\n",
    "\n",
    "\n"
   ]
  },
  {
   "cell_type": "code",
   "execution_count": 12,
   "metadata": {},
   "outputs": [
    {
     "name": "stderr",
     "output_type": "stream",
     "text": [
      "Using TensorFlow backend.\n"
     ]
    },
    {
     "name": "stdout",
     "output_type": "stream",
     "text": [
      "WARNING:tensorflow:From C:\\Users\\Tufool\\Anaconda3\\lib\\site-packages\\tensorflow\\contrib\\learn\\python\\learn\\datasets\\base.py:198: retry (from tensorflow.contrib.learn.python.learn.datasets.base) is deprecated and will be removed in a future version.\n",
      "Instructions for updating:\n",
      "Use the retry module or similar alternatives.\n",
      "WARNING:tensorflow:From C:\\Users\\Tufool\\Anaconda3\\lib\\site-packages\\keras\\backend\\tensorflow_backend.py:1190: calling reduce_sum (from tensorflow.python.ops.math_ops) with keep_dims is deprecated and will be removed in a future version.\n",
      "Instructions for updating:\n",
      "keep_dims is deprecated, use keepdims instead\n",
      "WARNING:tensorflow:From C:\\Users\\Tufool\\Anaconda3\\lib\\site-packages\\keras\\backend\\tensorflow_backend.py:1297: calling reduce_mean (from tensorflow.python.ops.math_ops) with keep_dims is deprecated and will be removed in a future version.\n",
      "Instructions for updating:\n",
      "keep_dims is deprecated, use keepdims instead\n"
     ]
    }
   ],
   "source": [
    "from ethnicolr import pred_wiki_ln\n",
    "pred_wiki_ln(employees_df, 'last_name')\n",
    "\n",
    "ethnicity=[]\n",
    "for r in employees_df.race:\n",
    "    ethnic_list = r.split(\",\")\n",
    "    ethnicity.append(ethnic_list[0])\n",
    "    \n",
    "employees_df.ethnicity = ethnicity    \n",
    "    "
   ]
  },
  {
   "cell_type": "markdown",
   "metadata": {},
   "source": [
    "#### TASK 7B [_Optional_]: Visualizing Ethnic Distributions\n",
    "\n",
    "By now, you have probably heard -- and maybe even more than once -- that pie charts are bad and that you should avoid them. But I like them. They are simple and, when there aren't too many groups, quite easy to understand. Let's represent the ethnic distribution of employees (across all departments) using a pie chart and let's discuss the good (and the bad).\n",
    "\n",
    "<hr>\n",
    "**_Hint _**: you may find the `Counter` module from the `collections` package quite useful. It works like this: \n",
    "\n",
    "`\n",
    "my_list=['A', 'A', 'A', 'B']\n",
    "cntr_dict=Counter(my_list)\n",
    "labels = list(cntr_dict.keys())\n",
    "sizes=[]\n",
    "for l in labels:\n",
    "    sizes.append(cntr_dict[l])\n",
    "`\n",
    "\n",
    "You can read more here: https://docs.python.org/3/library/collections.html#collections.Counter"
   ]
  },
  {
   "cell_type": "code",
   "execution_count": 13,
   "metadata": {},
   "outputs": [
    {
     "data": {
      "image/png": "[encoded data removed]",
      "text/plain": [
       "<matplotlib.figure.Figure at 0x28709083fd0>"
      ]
     },
     "metadata": {},
     "output_type": "display_data"
    }
   ],
   "source": [
    "from collections import Counter\n",
    "\n",
    "my_list = employees_df.ethnicity\n",
    "cntr_dict=Counter(my_list)\n",
    "labels = list(cntr_dict.keys())\n",
    "sizes=[]\n",
    "for l in labels:\n",
    "    sizes.append(cntr_dict[l])\n",
    "    \n",
    "patches, texts = plt.pie(sizes, startangle=90)\n",
    "plt.legend(patches, labels, loc=\"best\")\n",
    "plt.axis('equal')\n",
    "plt.tight_layout()\n",
    "plt.show()"
   ]
  },
  {
   "cell_type": "markdown",
   "metadata": {},
   "source": [
    "## TASK 8: Let's save our DataFrame\n",
    "Our employee DataFrame(`employees_df`) contains a lot of information. We can store the DataFrame using to_pickle. To read more: https://pandas.pydata.org/pandas-docs/stable/generated/pandas.DataFrame.to_pickle.html"
   ]
  },
  {
   "cell_type": "code",
   "execution_count": 14,
   "metadata": {
    "collapsed": true
   },
   "outputs": [],
   "source": [
    "employees_df.to_pickle('./Data/employees_df.pkl')"
   ]
  }
 ],
 "metadata": {
  "kernelspec": {
   "display_name": "Python 3",
   "language": "python",
   "name": "python3"
  },
  "language_info": {
   "codemirror_mode": {
    "name": "ipython",
    "version": 3
   },
   "file_extension": ".py",
   "mimetype": "text/x-python",
   "name": "python",
   "nbconvert_exporter": "python",
   "pygments_lexer": "ipython3",
   "version": "3.6.1"
  }
 },
 "nbformat": 4,
 "nbformat_minor": 2
}
