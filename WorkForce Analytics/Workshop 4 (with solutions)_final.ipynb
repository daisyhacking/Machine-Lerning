{
 "cells": [
  {
   "cell_type": "markdown",
   "metadata": {},
   "source": [
    "## WORKSHOP 4: DATA PRE-PROCESSING + PREDICTION\n",
    "\n",
    "We've spent the first three workshops (and a group assignment) growing our dataset, only to chuck some variables out in this workshop. But it's important!\n",
    "\n",
    "We grow to:\n",
    "- gather more interesting data & insights. \n",
    "\n",
    "and we reduce to:\n",
    "- remove redundant variables and others are unimportant. We don't need these for prediction. \n",
    "- simplify the predictive models; whereby reducing the likelihood of overfitting. \n",
    "\n",
    "In this workshop, we will examine the impact of your group's variables. _Let the games begin!_\n"
   ]
  },
  {
   "cell_type": "markdown",
   "metadata": {},
   "source": [
    "## Task 1: Read in files\n",
    "We will read in two data files:\n",
    "1) employees_df (which is the file from Workshop 3 and which should now include the variables from your group coursework) \n",
    "and \n",
    "2) employee_performance.csv which contains our target (dependent) variables."
   ]
  },
  {
   "cell_type": "code",
   "execution_count": 52,
   "metadata": {
    "collapsed": true,
    "scrolled": true
   },
   "outputs": [],
   "source": [
    "import pandas as pd\n",
    "\n",
    "# Reading in the employees_df pickle file\n",
    "employees_df = pd.read_pickle('./Data/employees_df.pkl')\n",
    "\n",
    "# Reading in employee_performance.csv into employees_perf\n",
    "employees_perf = pd.read_csv('./Data/employee_performance.csv' , encoding='latin1')\n",
    "\n",
    "y_vec=['citations', 'citations_5yr', 'hindex','hindex_5yr', 'i10index','i10index_5yr' ]\n",
    "# converting to numeric variables\n",
    "for y in y_vec:\n",
    "    employees_perf[y] = pd.to_numeric(employees_perf[y]) "
   ]
  },
  {
   "cell_type": "code",
   "execution_count": 53,
   "metadata": {},
   "outputs": [
    {
     "name": "stdout",
     "output_type": "stream",
     "text": [
      "person_id object\n",
      "citations float64\n",
      "citations_5yr float64\n",
      "hindex float64\n",
      "hindex_5yr float64\n",
      "i10index float64\n",
      "i10index_5yr float64\n"
     ]
    },
    {
     "data": {
      "text/html": [
       "<div>\n",
       "<style>\n",
       "    .dataframe thead tr:only-child th {\n",
       "        text-align: right;\n",
       "    }\n",
       "\n",
       "    .dataframe thead th {\n",
       "        text-align: left;\n",
       "    }\n",
       "\n",
       "    .dataframe tbody tr th {\n",
       "        vertical-align: top;\n",
       "    }\n",
       "</style>\n",
       "<table border=\"1\" class=\"dataframe\">\n",
       "  <thead>\n",
       "    <tr style=\"text-align: right;\">\n",
       "      <th></th>\n",
       "      <th>citations</th>\n",
       "      <th>citations_5yr</th>\n",
       "      <th>hindex</th>\n",
       "      <th>hindex_5yr</th>\n",
       "      <th>i10index</th>\n",
       "      <th>i10index_5yr</th>\n",
       "    </tr>\n",
       "  </thead>\n",
       "  <tbody>\n",
       "    <tr>\n",
       "      <th>count</th>\n",
       "      <td>54.000000</td>\n",
       "      <td>54.000000</td>\n",
       "      <td>54.000000</td>\n",
       "      <td>54.000000</td>\n",
       "      <td>54.000000</td>\n",
       "      <td>54.000000</td>\n",
       "    </tr>\n",
       "    <tr>\n",
       "      <th>mean</th>\n",
       "      <td>4498.425926</td>\n",
       "      <td>2311.592593</td>\n",
       "      <td>21.851852</td>\n",
       "      <td>16.759259</td>\n",
       "      <td>41.962963</td>\n",
       "      <td>29.518519</td>\n",
       "    </tr>\n",
       "    <tr>\n",
       "      <th>std</th>\n",
       "      <td>8822.368789</td>\n",
       "      <td>4611.691923</td>\n",
       "      <td>20.567796</td>\n",
       "      <td>14.592496</td>\n",
       "      <td>68.068213</td>\n",
       "      <td>47.377146</td>\n",
       "    </tr>\n",
       "    <tr>\n",
       "      <th>min</th>\n",
       "      <td>14.000000</td>\n",
       "      <td>13.000000</td>\n",
       "      <td>3.000000</td>\n",
       "      <td>3.000000</td>\n",
       "      <td>0.000000</td>\n",
       "      <td>0.000000</td>\n",
       "    </tr>\n",
       "    <tr>\n",
       "      <th>25%</th>\n",
       "      <td>595.750000</td>\n",
       "      <td>408.250000</td>\n",
       "      <td>8.000000</td>\n",
       "      <td>8.000000</td>\n",
       "      <td>8.000000</td>\n",
       "      <td>7.250000</td>\n",
       "    </tr>\n",
       "    <tr>\n",
       "      <th>50%</th>\n",
       "      <td>1465.000000</td>\n",
       "      <td>896.500000</td>\n",
       "      <td>15.000000</td>\n",
       "      <td>12.500000</td>\n",
       "      <td>19.500000</td>\n",
       "      <td>15.000000</td>\n",
       "    </tr>\n",
       "    <tr>\n",
       "      <th>75%</th>\n",
       "      <td>4288.750000</td>\n",
       "      <td>2136.750000</td>\n",
       "      <td>27.000000</td>\n",
       "      <td>22.750000</td>\n",
       "      <td>40.750000</td>\n",
       "      <td>32.500000</td>\n",
       "    </tr>\n",
       "    <tr>\n",
       "      <th>max</th>\n",
       "      <td>56854.000000</td>\n",
       "      <td>30527.000000</td>\n",
       "      <td>120.000000</td>\n",
       "      <td>91.000000</td>\n",
       "      <td>445.000000</td>\n",
       "      <td>320.000000</td>\n",
       "    </tr>\n",
       "  </tbody>\n",
       "</table>\n",
       "</div>"
      ],
      "text/plain": [
       "          citations  citations_5yr      hindex  hindex_5yr    i10index  \\\n",
       "count     54.000000      54.000000   54.000000   54.000000   54.000000   \n",
       "mean    4498.425926    2311.592593   21.851852   16.759259   41.962963   \n",
       "std     8822.368789    4611.691923   20.567796   14.592496   68.068213   \n",
       "min       14.000000      13.000000    3.000000    3.000000    0.000000   \n",
       "25%      595.750000     408.250000    8.000000    8.000000    8.000000   \n",
       "50%     1465.000000     896.500000   15.000000   12.500000   19.500000   \n",
       "75%     4288.750000    2136.750000   27.000000   22.750000   40.750000   \n",
       "max    56854.000000   30527.000000  120.000000   91.000000  445.000000   \n",
       "\n",
       "       i10index_5yr  \n",
       "count     54.000000  \n",
       "mean      29.518519  \n",
       "std       47.377146  \n",
       "min        0.000000  \n",
       "25%        7.250000  \n",
       "50%       15.000000  \n",
       "75%       32.500000  \n",
       "max      320.000000  "
      ]
     },
     "execution_count": 53,
     "metadata": {},
     "output_type": "execute_result"
    }
   ],
   "source": [
    "# Explore the contents of employees_perf\n",
    "for i in employees_perf:\n",
    "    print(i, employees_perf[i].dtype)\n",
    "\n",
    "   \n",
    "employees_perf.describe()"
   ]
  },
  {
   "cell_type": "markdown",
   "metadata": {},
   "source": [
    "## Task 2: Variables with missing values\n",
    "Because some employees did not input a `personal_summary`, some of the missing values in the variables derived from the summary took a 0 value. In this task, we will distinguish between missing values and true 0 values. To do this, we will loop through the variables derived from personal_summary, listed below, and replace 0's with np.nan in the cases (rows) where summary_length = 0. \n",
    "\n",
    "The variables we derived in class are as follows, but you may have generated more in your group coursework.\n",
    "- `summary_length`\n",
    "- `summary_positivity` \n",
    "- `adjective_positivity`\n",
    "- `dept_similarity`\n",
    "- `outdept_similarity`\n",
    "- `betweenness_centrality`\n",
    "- `degree_centrality`\n",
    "\n",
    "<hr>\n",
    "*Hint*: You can use the function `replace`, which you can read about here\n",
    "https://pandas.pydata.org/pandas-docs/stable/generated/pandas.DataFrame.replace.html\n",
    "\n",
    "or, you can use a variation of the following code, in which I'm generating a df with missing value in the last row of column A.\n",
    "`\n",
    "##### generating the DataFrame\n",
    "d = {'A' : pd.Series(['a', 'b', 'c'], index=[0, 1, 2]), 'B' : pd.Series(['a', 'b', 'c', 'd'], index=[0, 1, 2, 3])}\n",
    "df = pd.DataFrame(d)\n",
    "\n",
    "##### checking that the last row is nan\n",
    "print(df.loc[4,'A'])\n",
    "\n",
    "##### replacing the last row in A with 0 and printing result\n",
    "df.loc[3,'A'] = 0\n",
    "print(df.loc[4,'A'])\n",
    "`"
   ]
  },
  {
   "cell_type": "code",
   "execution_count": 54,
   "metadata": {
    "collapsed": true
   },
   "outputs": [],
   "source": [
    "import numpy as np\n",
    "# YOUR CODE GOES HERE\n",
    "target_columns = [\"summary_length\",\n",
    "                \"summary_positivity\",\n",
    "                \"adjective_positivity\",\n",
    "                \"dept_similarity\",\n",
    "                \"outdept_similarity\",\n",
    "                \"betweenness_centrality\",\n",
    "                \"degree_centrality\"]\n",
    "\n",
    "mask = employees_df['summary_length'] == 0\n",
    "employees_df.loc[mask, target_columns] = employees_df.loc[mask, target_columns].replace(0, np.nan)"
   ]
  },
  {
   "cell_type": "markdown",
   "metadata": {},
   "source": [
    "## Task 3: K-NN to impute missing X values\n",
    "\n",
    "There are a number of different ways for dealing with missing variables. The simplest is to impute numeric variables with mean or median values and categorical variables with the mode. But we'll try to do it a little bit better. \n",
    "\n",
    "In this task, we will impute using K-nearest neighbours. We will use the module `knn_impute`, which will impute the missing values in the columns - `summary_length`, `summary_positivity` , `adjective_positivity`,  `dept_similarity`,  `outdept_similarity`,  `betweenness_centrality`, `degree_centrality`.\n",
    "\n",
    "\n",
    "Let's assume that people will have the same summary if they have the same attributes across the following categories, and use these features for K-NN:\n",
    " 1. department\n",
    " 2. gender\n",
    " 3. ethicity\n",
    " 4. seniority\n",
    " 5. tenure_track\n",
    "\n",
    "We'll will use 5 neighbours (`k`= 5) for our imputation (but you can tune this after you run the OLS, to improve prediction results). \n",
    "\n",
    "There is one caveat. `seniority` and `tenure_track` are both categorical variables (although they take on numeric values). In order for the k-NN algorithm to treat them as categorical, let's replace the numeric variables with a string value. This is one way to do it:\n",
    "\n",
    "`seniority` takes on a value from 1 to 4. Let's replace these with level1, level2, level3, level4. \n",
    "`tenure_track` takes on a value of 1 or 0. Let's replace these with `yes` and `no` accordingly.\n",
    "\n",
    "\n",
    "Once you are ready to impute, you will need to loop through each of the columns with missing values (from Task 2), and run K-NN to fill in the missing values. \n",
    "\n",
    "<hr>\n",
    "\n",
    "The following link gives a detailed example of how to use KNN:\n",
    "https://towardsdatascience.com/the-use-of-knn-for-missing-values-cf33d935c637\n"
   ]
  },
  {
   "cell_type": "code",
   "execution_count": 55,
   "metadata": {
    "collapsed": true
   },
   "outputs": [],
   "source": [
    "import knn_impute\n",
    "\n",
    "# First let's convert the numeric values in seniority and tenure_track to strings. \n",
    "l1 = employees_df['seniority'] == 1\n",
    "l2 = employees_df['seniority'] == 2\n",
    "l3 = employees_df['seniority'] == 3\n",
    "l4 = employees_df['seniority'] == 4\n",
    "employees_df.loc[l1, 'seniority'] = employees_df.loc[l1, 'seniority'].replace(1, 'Level1')\n",
    "employees_df.loc[l2, 'seniority'] = employees_df.loc[l2, 'seniority'].replace(2, 'Level2')\n",
    "employees_df.loc[l3, 'seniority'] = employees_df.loc[l3, 'seniority'].replace(3, 'Level3')\n",
    "employees_df.loc[l4, 'seniority'] = employees_df.loc[l4, 'seniority'].replace(4, 'Level4')\n",
    "\n",
    "tenured = employees_df['tenure_track'] == 1\n",
    "not_tenured = employees_df['tenure_track'] == 0\n",
    "employees_df.loc[tenured, 'tenure_track'] = employees_df.loc[tenured, 'tenure_track'].replace(1, 'yes')\n",
    "employees_df.loc[not_tenured, 'tenure_track'] = employees_df.loc[not_tenured, 'tenure_track'].replace(0, 'no')\n",
    "\n",
    "\n",
    "# Running K-NN with k_neighbours = 5\n",
    "features = [\"department\",\n",
    "            \"gender\",\n",
    "            \"ethnicity\",\n",
    "            \"seniority\",\n",
    "            \"tenure_track\"]\n",
    "feature_df = employees_df[features].copy()\n",
    "\n",
    "# Looping through target_columns with missing values.\n",
    "for target in target_columns:\n",
    "    target_values = employees_df[target]\n",
    "    employees_df[target] = knn_impute.knn_impute(target_values, feature_df, k_neighbors=5)\n",
    "\n",
    "#employees_df.describe(include='all')    "
   ]
  },
  {
   "cell_type": "markdown",
   "metadata": {},
   "source": [
    "## Task 4: Dealing with missing y values\n",
    "\n",
    "In our dataset, we have missing X and y values, where y values represent the dependent (target) variable. It is quite important to keep the missing y cases during imputation because:\n",
    "1) The value of the missing y (be it positive, negative or zero) will not influence the imputation of missing X's.\n",
    "2) Cases where y is missing but x is present will add more data (and value) to the imputation.\n",
    "\n",
    "After the imputation (done in task 3), we can delete missing y's. We will do this in the following steps:\n",
    "\n",
    "1) First, we will make a copy of employees_df, and keep only the (independent) variables that are interesting for our analysis. These are some of the variables we created in the workshops and ALL of the variables you created in your groupwork. \n",
    "\n",
    "2) Next, we will merge employees_copy and employees_perf, creating a new DataFrame `employees_final`. We will use `employees_final` for the rest of our analysis.\n",
    "\n",
    "3) Finally, we will drop all missing rows in `employees_final` with missing values for hindex, which will be our dependent (target) variable for the analysis. \n",
    " \n",
    "\n",
    "\n",
    "<hr>\n",
    "If you would like to read more on dealing with missing X and y values: https://onlinelibrary.wiley.com/doi/full/10.1111/j.1467-9531.2007.00180.x\n",
    "\n"
   ]
  },
  {
   "cell_type": "markdown",
   "metadata": {},
   "source": [
    "### Task 4.1: Create a copy of employees_df\n",
    "First, we'll create a copy of `employees_df`, named `employees_copy`\n",
    "Then, we will keep the following columns\n",
    "'person_id'\n",
    "'title_clean'\n",
    "'department'\n",
    "'colleagues'\n",
    "'summary_length'\n",
    "'summary_positivity'\n",
    "'adjective_positivity'\n",
    "'gender'\n",
    "'ethnicity'\n",
    "'dept_similarity'\n",
    "'outdept_similarity'\n",
    "'betweenness_centrality'\n",
    "'degree_centrality'\n",
    "'tenure_track'\n",
    "'seniority'\n",
    "\n",
    "<hr>\n",
    "for more on copying a DataFrame:\n",
    "https://pandas.pydata.org/pandas-docs/stable/generated/pandas.DataFrame.copy.html"
   ]
  },
  {
   "cell_type": "code",
   "execution_count": 56,
   "metadata": {
    "collapsed": true
   },
   "outputs": [],
   "source": [
    "# Creating a list of columns to keep (or columns to remove)\n",
    "columns2keep = ['person_id','title_clean', 'department', 'colleagues','summary_length', 'summary_positivity', 'adjective_positivity', 'gender', 'ethnicity','dept_similarity','outdept_similarity','betweenness_centrality','degree_centrality','tenure_track','seniority']\n",
    "\n",
    "#Creating a copy with only the relevant columns\n",
    "employees_copy = employees_df[columns2keep]"
   ]
  },
  {
   "cell_type": "markdown",
   "metadata": {},
   "source": [
    "### Task 4.2: Merge employees_copy and employees_perf \n",
    "\n",
    "In this task, we will create a new DataFrame, `employees_final`, which contains all the rows in `employees_copy` and `employees_perf`, merged by `person_id`.  \n",
    "\n",
    "<hr>\n",
    "for more on combining DataFrames: https://pandas.pydata.org/pandas-docs/stable/merging.html\n"
   ]
  },
  {
   "cell_type": "code",
   "execution_count": 57,
   "metadata": {},
   "outputs": [
    {
     "name": "stdout",
     "output_type": "stream",
     "text": [
      "(110, 15)\n",
      "(83, 7)\n",
      "(81, 21)\n"
     ]
    }
   ],
   "source": [
    "# YOUR CODE GOES HERE\n",
    "\n",
    "print(employees_copy.shape)\n",
    "print(employees_perf.shape)\n",
    "employees_final = employees_copy.merge(employees_perf, on='person_id')\n",
    "print(employees_final.shape)"
   ]
  },
  {
   "cell_type": "markdown",
   "metadata": {},
   "source": [
    "### Task 4.3 [_optional_]: Exploring missing y's\n",
    "\n",
    "Let's assume that our dependent variable (y) is `hindex`. In this task, we will explore missing y's by tabulating the percentage of missing values for each unique entry in `title_clean`. \n",
    "\n",
    "Is there a trend? Do we have to adjust our hypotheses once the missing y's are deleted? \n"
   ]
  },
  {
   "cell_type": "code",
   "execution_count": 58,
   "metadata": {},
   "outputs": [
    {
     "name": "stdout",
     "output_type": "stream",
     "text": [
      "(81, 21)\n",
      "Professor\n",
      "missing percentage : 27.5862068966\n",
      "Associate Professor\n",
      "missing percentage : 11.1111111111\n",
      "Assistant Professor\n",
      "missing percentage : 50.0\n",
      "Research Associate\n",
      "missing percentage : 58.3333333333\n",
      "Principal Teaching Fellow\n",
      "missing percentage : 50.0\n"
     ]
    }
   ],
   "source": [
    "# YOUR CODE GOES HERE\n",
    "print(employees_final.shape)\n",
    "unique_title_clean = employees_final['title_clean'].unique()\n",
    "for title in unique_title_clean:\n",
    "    print(title)\n",
    "    hindex_title = employees_final.loc[employees_final['title_clean']==title, 'hindex']\n",
    "    missing_percentage = 100 * hindex_title.isnull().sum() / hindex_title.shape[0]\n",
    "    print('missing percentage :', missing_percentage)"
   ]
  },
  {
   "cell_type": "markdown",
   "metadata": {},
   "source": [
    "### Task 4.4: Dropping missing y's\n",
    "In this task, we will drop/delete all rows in `employees_perf` that contain missing y's"
   ]
  },
  {
   "cell_type": "code",
   "execution_count": 59,
   "metadata": {},
   "outputs": [
    {
     "name": "stdout",
     "output_type": "stream",
     "text": [
      "(53, 21)\n"
     ]
    }
   ],
   "source": [
    "# YOUR CODE GOES HERE\n",
    "employees_final = employees_final[~employees_final['hindex'].isnull()]\n",
    "print(employees_final.shape)"
   ]
  },
  {
   "cell_type": "markdown",
   "metadata": {},
   "source": [
    "### Task 5: Detecting Sources of Multicollinearity\n",
    "The explanatory variables of interest are ones you generated in your group assignment and the following: \n",
    " 'department',\n",
    " 'colleagues',\n",
    " 'summary_length',\n",
    " 'summary_positivity',\n",
    " 'adjective_positivity',\n",
    " 'gender',\n",
    " 'ethnicity',\n",
    " 'dept_similarity',\n",
    " 'outdept_similarity',\n",
    " 'betweenness_centrality',\n",
    " 'degree_centrality',\n",
    " 'tenure_track',\n",
    " 'seniority'\n",
    "\n",
    "We will explore (potential) sources of collinearity in two ways. \n",
    "- First, we will use the variance inflation factor (VIF). \n",
    "- Next, we will print out a correlation heatmap of all the dependent variables. \n",
    "\n",
    "**_Note_**: `department`,`gender`,`ethnicity`, `tenure_track` and `seniority` are categorical variables. Before running the VIF, you will first need to convert these categorical variables into dummy/indicator variables. Then, for each group, you will include all but one of the indicator variables, as the third can be inferred. For example, if you include `female` and `male` then you can exclude `neutral`.\n",
    "\n",
    "\n",
    "\n"
   ]
  },
  {
   "cell_type": "code",
   "execution_count": 60,
   "metadata": {},
   "outputs": [
    {
     "name": "stdout",
     "output_type": "stream",
     "text": [
      "department_Department of Innovation and Entrepreneurship : 54.869826173\n",
      "department_Department of Management : 70.9185973927\n",
      "gender_male : 2.26380145293\n",
      "gender_neutral : 2.09097852631\n",
      "ethnicity_GreaterAfrican : 1.62216261185\n",
      "ethnicity_GreaterEuropean : 1.95316128025\n",
      "tenure_track_yes : 6.53216711877\n",
      "seniority_Level2 : 12.2471674512\n",
      "seniority_Level3 : 15.9830259205\n",
      "seniority_Level4 : 19.9941776585\n",
      "colleagues : 724.284310914\n",
      "summary_length : 1.97695036537\n",
      "summary_positivity : 1.80977056302\n",
      "adjective_positivity : 1.7133706942\n",
      "dept_similarity : 22.9130268738\n",
      "outdept_similarity : 10.7002298099\n",
      "betweenness_centrality : 12.4037572745\n",
      "degree_centrality : 33.2757664556\n"
     ]
    }
   ],
   "source": [
    "#employees_df.describe(include=['O'])\n",
    "\n",
    "# YOUR CODE FOR VIF goes here\n",
    "from statsmodels.stats.outliers_influence import variance_inflation_factor\n",
    "\n",
    "\n",
    "categorical_vars = ['department', 'gender', 'ethnicity', 'tenure_track', 'seniority']\n",
    "numeric_vars = ['colleagues', 'summary_length', 'summary_positivity','adjective_positivity', 'dept_similarity','outdept_similarity','betweenness_centrality','degree_centrality']\n",
    "\n",
    "#converting categorical variables to dummy variables\n",
    "employees_final2 = pd.get_dummies(employees_final[categorical_vars], drop_first=True)\n",
    "\n",
    "# adding numeric vars to employees_final2\n",
    "employees_final2[numeric_vars]=employees_final[numeric_vars]\n",
    "\n",
    "\n",
    "# Running VIF\n",
    "for i in range(employees_final2.shape[1]):\n",
    "    vif = variance_inflation_factor(employees_final2.values, i)\n",
    "    print(employees_final2.columns[i],':',vif)\n",
    "\n",
    "\n"
   ]
  },
  {
   "cell_type": "code",
   "execution_count": 61,
   "metadata": {},
   "outputs": [
    {
     "data": {
      "image/png": "[encoded data removed]",
      "text/plain": [
       "<matplotlib.figure.Figure at 0x178011d3898>"
      ]
     },
     "metadata": {},
     "output_type": "display_data"
    }
   ],
   "source": [
    "# YOUR CODE FOR CORRELATION HEATMAP GOES HERE\n",
    "import matplotlib.pyplot as plt\n",
    "import seaborn as sns\n",
    "corr_df = employees_final2.corr()\n",
    "sns.heatmap(corr_df, cmap='RdBu_r')\n",
    "plt.show()"
   ]
  },
  {
   "cell_type": "markdown",
   "metadata": {},
   "source": [
    "## TASK 6: Random Forest Regression\n",
    "Random forest regression uses an ensemble of regression trees to overcome overfitting. It works by \"growing\" a number of trees. Each tree is grown using only a subset \"m\" of variables out of all the explanatory variables, and these are random (with replacement). The importance of a variable \"x\" is simply the average of the predictions from all trees. \n",
    "\n",
    "As a default starting point, it is suggested to set the value of \"m\" (max_features) to be a third of the total number of explanatory variables. \n"
   ]
  },
  {
   "cell_type": "code",
   "execution_count": 62,
   "metadata": {},
   "outputs": [
    {
     "data": {
      "text/plain": [
       "RandomForestRegressor(bootstrap=True, criterion='mse', max_depth=None,\n",
       "           max_features=6, max_leaf_nodes=None, min_impurity_decrease=0.0,\n",
       "           min_impurity_split=None, min_samples_leaf=1,\n",
       "           min_samples_split=2, min_weight_fraction_leaf=0.0,\n",
       "           n_estimators=10, n_jobs=1, oob_score=False, random_state=None,\n",
       "           verbose=0, warm_start=False)"
      ]
     },
     "execution_count": 62,
     "metadata": {},
     "output_type": "execute_result"
    }
   ],
   "source": [
    "# Importing the RF regression model and the train_test_split module.\n",
    "from sklearn.ensemble import RandomForestRegressor\n",
    "from sklearn.model_selection import train_test_split\n",
    "\n",
    "# adding dep_var to employees_final2\n",
    "employees_final2['hindex']=employees_final['hindex']\n",
    "\n",
    "df = employees_final2.copy()\n",
    "\n",
    "X=['department_Department of Innovation and Entrepreneurship',\n",
    " 'department_Department of Management',\n",
    " 'gender_male',\n",
    " 'gender_neutral',\n",
    " 'ethnicity_GreaterAfrican',\n",
    " 'ethnicity_GreaterEuropean',\n",
    " 'tenure_track_yes',\n",
    " 'seniority_Level2',\n",
    " 'seniority_Level3',\n",
    " 'seniority_Level4',\n",
    " 'colleagues',\n",
    " 'summary_length',\n",
    " 'summary_positivity',\n",
    " 'adjective_positivity',\n",
    " 'dept_similarity',\n",
    " 'outdept_similarity',\n",
    " 'betweenness_centrality',\n",
    " 'degree_centrality']\n",
    "\n",
    "# Splitting the data into training and testing sets\n",
    "#train_X, test_X, train_y, test_y = train_test_split(df[X], df['hindex'], test_size = 0.20, random_state = 42)\n",
    "\n",
    "\n",
    "# Training the model\n",
    "# YOUR CODE GOES HERE\n",
    "rfr = RandomForestRegressor(10, max_features = len(X)//3)\n",
    "#rfr.fit(train_X, train_y)\n",
    "rfr.fit(df[X], df['hindex'])\n",
    "\n",
    "\n",
    "# Calculating the absolute errors as the absolute difference between predicted_y and test_y\n",
    "#predicted_y = rfr.predict(test_X) # YOUR CODE GOES HERE\n",
    "#errors = np.abs(test_y - predicted_y)# YOUR CODE GOES HERE\n",
    "\n",
    "\n",
    "# Calculating the accuracy as 100- mean absolute percentage error (MAPE)\n",
    "#mape = 100 * (errors / test_y)\n",
    "#accuracy = 100 - np.mean(mape)\n",
    "#print(' The accuracy of the random forest:', round(accuracy, 2), '%.')\n",
    "\n",
    "\n"
   ]
  },
  {
   "cell_type": "markdown",
   "metadata": {},
   "source": [
    "### Task 6.1: Feature Selection\n",
    "Visualize variable importance by first sorting the variables from most important to least. Optionally, you can also output results as a vertical bar chart.  \n",
    "\n",
    "**_How do your variables fare?_**\n",
    "\n",
    "<hr>\n",
    "_Hint_ you can use `rf.feature_importances_` \n"
   ]
  },
  {
   "cell_type": "code",
   "execution_count": 63,
   "metadata": {},
   "outputs": [
    {
     "data": {
      "text/plain": [
       "<matplotlib.text.Text at 0x17800d3c7f0>"
      ]
     },
     "execution_count": 63,
     "metadata": {},
     "output_type": "execute_result"
    },
    {
     "data": {
      "image/png": "[encoded data removed]",
      "text/plain": [
       "<matplotlib.figure.Figure at 0x17800e82240>"
      ]
     },
     "metadata": {},
     "output_type": "display_data"
    }
   ],
   "source": [
    "%matplotlib inline\n",
    "\n",
    "rfr.feature_importances_\n",
    "# Sorting features by their score\n",
    "features, importances = zip(*sorted(zip(X, rfr.feature_importances_), key=lambda x: x[1]))\n",
    "\n",
    "# Printing out the results \n",
    "#for f, i in zip(features, importances):\n",
    "#    print(f, i)\n",
    "\n",
    "# Creating pos, a list containing indexes of unknown_by_yr\n",
    "yPos = range(len(features))\n",
    "       \n",
    "# Plotting the horizontal bar chart\n",
    "plt.barh(yPos,  importances,  height =0.4, color='green') \n",
    "\n",
    "# Setting xticks to have the same `pos` as bars \n",
    "plt.yticks(yPos, features)\n",
    "\n",
    "# Setting xlabel\n",
    "plt.xlabel('Feature Importance')\n",
    "\n",
    "#  Setting a title, and axes labels\n",
    "plt.title('Results of Random Forest Regression with Hindex as target variable')\n",
    "\n"
   ]
  },
  {
   "cell_type": "code",
   "execution_count": 64,
   "metadata": {
    "collapsed": true
   },
   "outputs": [],
   "source": [
    "#Tuning to remove High VIF\n",
    "\n",
    "# YOUR CODE GOES HERE\n",
    "\n",
    "def remove_all_high_VIF(df, predictors, threshold=10):        \n",
    "    columns = predictors\n",
    "    df = df[columns].copy()\n",
    "    \n",
    "    dropped = True\n",
    "    while dropped:\n",
    "        dropped = False\n",
    "        vif_vals = [variance_inflation_factor(df.values, i) for i in range(df.shape[1])]        \n",
    "        max_vif = max(vif_vals)\n",
    "        if max_vif > threshold:\n",
    "            max_vif_index = vif_vals.index(max_vif)\n",
    "            print('Dropped:',columns[max_vif_index],max_vif)\n",
    "            del columns[max_vif_index]\n",
    "            df = df[columns]\n",
    "            dropped = True\n",
    "\n",
    "    predictors = columns\n",
    "    return predictors\n",
    "\n",
    "#print(X)\n",
    "#X = remove_all_high_VIF(df, X)\n",
    "#print(X)\n"
   ]
  },
  {
   "cell_type": "markdown",
   "metadata": {},
   "source": [
    "## TASK 7: REGRESSION MODEL \n",
    "In this task, we will run two regression models. One with all the variables that were used in the Random Forest regression and a second with a subset of these variables that were deemed \"important\". \n",
    "\n",
    "There is one caveat. Some of our explanatory variables belong in groups. Namely, these are ['department', 'gender', 'ethnicity', 'tenure_track', 'seniority'], that we converted into dummy variables. In cases like this, if one variable is \"important\" and enters into the regression, then others belonging to the same group should also enter. We will use the following steps:\n",
    "\n",
    "1) Create a variable, \"group_number\" which identifies groups of variables. This variable will uniquely identify each numeric variable, and will be repeated across groups. For example, if you have the variables ['degree_centrality', 'gender_female', 'gender_male'], the group_number will look like this: [1, 2, 2] \n",
    "\n",
    "2) Create a list (X_nb) of important variables, making sure we include all variables in a group.    \n",
    "\n",
    "3) Standardize all numeric variables.\n",
    "\n",
    "4) Run two regression models. One with all variables, and one with only important variables. How does their performance vary?\n",
    "\n"
   ]
  },
  {
   "cell_type": "markdown",
   "metadata": {},
   "source": [
    "### TASK 7.1: Create group variable\n",
    "Generate a dictionary, `group_number` which identifies groups of variables. The keys will be all the X variables that entered into the Random Forest regression. The values will be the group number. \n",
    "\n",
    "The dictionary values will uniquely identify each numeric variable, and will be repeated across groups. For example, it will look like this {`degree_centrality`: 1 `gender_female`:2, `gender_male`:3}, if you only had the three variables. \n"
   ]
  },
  {
   "cell_type": "code",
   "execution_count": 65,
   "metadata": {},
   "outputs": [
    {
     "name": "stdout",
     "output_type": "stream",
     "text": [
      "{'department_Department of Innovation and Entrepreneurship': 4, 'department_Department of Management': 4, 'gender_male': 7, 'gender_neutral': 7, 'ethnicity_GreaterAfrican': 6, 'ethnicity_GreaterEuropean': 6, 'tenure_track_yes': 11, 'seniority_Level2': 9, 'seniority_Level3': 9, 'seniority_Level4': 9, 'colleagues': 2, 'summary_length': 10, 'summary_positivity': 10, 'adjective_positivity': 0, 'dept_similarity': 5, 'outdept_similarity': 8, 'betweenness_centrality': 1, 'degree_centrality': 3}\n"
     ]
    }
   ],
   "source": [
    "\n",
    "# Finding all dummified variables \n",
    "var_name = X\n",
    "var_name2=[]\n",
    "for v in var_name:\n",
    "    var_name2.append(v.split(\"_\")[0])\n",
    "    \n",
    "# Creating a group dictionary\n",
    "groups = list(np.unique(var_name2))\n",
    "group_number = {}\n",
    "for i in range(len(var_name2)):\n",
    "    v2 = var_name2[i]\n",
    "    v1 = var_name[i]\n",
    "    group_number[v1] = groups.index(v2)\n",
    "    \n",
    "print(group_number)\n"
   ]
  },
  {
   "cell_type": "markdown",
   "metadata": {},
   "source": [
    "### TASK 7.2 Create a list (X_nb) of important variables\n",
    "\n",
    "In this task, we will generate a new list of features (`X_nb`). This list will contain all variables from the Random Forest regression that have an importance score >= 0.15 (you can play with this threshold), as well as all group members of important variables."
   ]
  },
  {
   "cell_type": "code",
   "execution_count": 66,
   "metadata": {},
   "outputs": [
    {
     "name": "stdout",
     "output_type": "stream",
     "text": [
      "['summary_length', 'summary_positivity', 'seniority_Level2', 'seniority_Level3', 'seniority_Level4', 'dept_similarity']\n"
     ]
    }
   ],
   "source": [
    "# Lets set the threshold as 0.1, including all variables with an importance value greater than or equal to this threshold\n",
    "thresh = 0.1\n",
    "\n",
    "# Sorting features by their score\n",
    "features, importances = zip(*sorted(zip(X, rfr.feature_importances_), key=lambda x: x[1]))\n",
    "\n",
    "# Intializing X_nb\n",
    "X_nb =[]\n",
    "\n",
    "# Looping through and adding relevant variables\n",
    "for f, i in zip(features, importances):\n",
    "    if i >= thresh:\n",
    "        grp = group_number[f]\n",
    "        X_nb.extend([k for k,v in group_number.items() if v == grp])\n",
    "    \n",
    "\n",
    "print(X_nb)"
   ]
  },
  {
   "cell_type": "markdown",
   "metadata": {},
   "source": [
    "### TASK 7.3: Standardize numeric variables\n",
    "You can do this in one of two ways:\n",
    "\n",
    "- you can standardize by subtracting the mean and dividing by standard deviation(i.e, x-mean(col)/std(col))\n",
    "- or you can import and use the StandardScaler module. Here's how StandardScaler works.\n",
    "\n",
    "`\n",
    "from sklearn.preprocessing import StandardScaler\n",
    "\n",
    "data = [[0, 0, 2, 3], [4, 1, 0, 0], [1, 1, 1, 1], [2, 1, 1, 1]]\n",
    "data_transformed= StandardScaler().fit_transform(data)\n",
    "print(data_transformed)\n",
    "`\n",
    "\n"
   ]
  },
  {
   "cell_type": "code",
   "execution_count": 67,
   "metadata": {
    "collapsed": true
   },
   "outputs": [],
   "source": [
    "# Standardizing only the numeric columns\n",
    "for col in df:\n",
    "    if col in numeric_vars:\n",
    "        x = df[col]\n",
    "        x = (x - np.mean(x)) / np.std(x)\n",
    "        df[col]=x"
   ]
  },
  {
   "cell_type": "markdown",
   "metadata": {},
   "source": [
    "### 7.4  Run a regression model\n",
    "Since we are using hindex as our target variable, we will run an OLS regression. However, if you were to try citations instead, then a Poisson or a Negative Binomial regression will be more appropriate, as those are more suited to count variables.\n",
    "\n",
    "In this task, run two regression models:\n",
    " \n",
    "    1) Using all X values (call this `model`)\n",
    "    2) Using only X_nb (call this `model_trunc`)\n",
    "\n",
    "What is the the difference in R-Squared between the two models? What is the difference in mean-squared error (MSE) of predicted-y versus actual y for the testing sample?\n",
    "\n",
    "Usually (but not always) using more variables will lead to overfitting, and we would expect to see a larger MSE. \n",
    "\n",
    "\n",
    "<hr> \n",
    "I will use the OLS module from statsmodels package. It works like this:\n",
    "`\n",
    "import statsmodels.api as sm\n",
    "from sklearn.metrics import mean_squared_error\n",
    "\n",
    "train_X, test_X, train_y, test_y = train_test_split(df[X], df['hindex'], test_size = 0.20, random_state = 42)\n",
    "model = sm.OLS(train_y, train_X).fit()\n",
    "\n",
    "y_hat = model.predict(test_X) # make the predictions by the model\n",
    "mse_full =  mean_squared_error(test_y, y_hat) # check the mean-squared-error\n",
    "\n",
    "\n",
    "`\n",
    "\n",
    "you can also look at the model output like this:\n",
    "`model.summary()`\n"
   ]
  },
  {
   "cell_type": "code",
   "execution_count": 68,
   "metadata": {},
   "outputs": [
    {
     "name": "stdout",
     "output_type": "stream",
     "text": [
      "R2 for the full model is: 0.652270127103\n",
      "MSE for the full model is: 235.631267287\n",
      "R2 for the truncated model is: 0.661744352544\n",
      "MSE for the truncated model is: 202.899920004\n"
     ]
    }
   ],
   "source": [
    "## TASK 8: Running OLS REGRESSION\n",
    "\n",
    "# Regression using all variables\n",
    "import statsmodels.api as sm\n",
    "from sklearn.metrics import mean_squared_error\n",
    "\n",
    "# Split into training and test sample\n",
    "train_X, test_X, train_y, test_y = train_test_split(df[X], df['hindex'], test_size = 0.20, random_state = 42)\n",
    "\n",
    "# fit the model onto the training sample\n",
    "model = sm.OLS(train_y, train_X).fit()\n",
    "y_hat = model.predict(test_X) # make the predictions by the model\n",
    "mse_full =  mean_squared_error(test_y, y_hat)\n",
    "\n",
    "\n",
    "# Print out the statistics\n",
    "model.summary()\n",
    "\n",
    "\n",
    "# Regression using important variables\n",
    "train_X, test_X, train_y, test_y = train_test_split(df[X_nb], df['hindex'], test_size = 0.20, random_state = 42)\n",
    "\n",
    "model_trunc = sm.OLS(train_y, train_X).fit()\n",
    "y_hat_trunc = model_trunc.predict(test_X) # make the predictions by the model\n",
    "mse_trunc =  mean_squared_error(test_y, y_hat_trunc)\n",
    "\n",
    "print(\"R2 for the full model is:\",  model.rsquared)\n",
    "print(\"MSE for the full model is:\",  mse_full)\n",
    "\n",
    "print(\"R2 for the truncated model is:\", model_trunc.rsquared)\n",
    "print(\"MSE for the truncated model is:\",  mse_trunc)\n"
   ]
  },
  {
   "cell_type": "markdown",
   "metadata": {},
   "source": [
    "### 7.5 [_Optional_] Plotting Impact of Important Features on Performance\n",
    "\n",
    "In this task, plot out the important features  "
   ]
  },
  {
   "cell_type": "code",
   "execution_count": 69,
   "metadata": {},
   "outputs": [
    {
     "data": {
      "text/plain": [
       "<matplotlib.text.Text at 0x178012aa828>"
      ]
     },
     "execution_count": 69,
     "metadata": {},
     "output_type": "execute_result"
    },
    {
     "data": {
      "image/png": "[encoded data removed]",
      "text/plain": [
       "<matplotlib.figure.Figure at 0x17800cad5f8>"
      ]
     },
     "metadata": {},
     "output_type": "display_data"
    }
   ],
   "source": [
    "coeffs = model_trunc.params\n",
    "pvals = model_trunc.pvalues\n",
    "\n",
    "# Replacing coeff by 0 if coefficient is negative\n",
    "for i in range(len(pvals)):\n",
    "    if pvals[i]>=0.1:\n",
    "        coeffs[i]=0\n",
    "\n",
    "        \n",
    "# # Sorting X_trunc by coefficient size\n",
    "\n",
    "positive_x, positive_coeff = [], []\n",
    "negative_x, negative_coeff = [], []\n",
    "zero_x, zero_coeff = [], []\n",
    "\n",
    "for i, imp in enumerate(coeffs):\n",
    "    if imp > 0:\n",
    "        positive_coeff.append(imp)\n",
    "        positive_x.append(X_nb[i])\n",
    "    else:\n",
    "        negative_coeff.append(imp)\n",
    "        negative_x.append(X_nb[i])\n",
    "\n",
    "\n",
    "positive_x, positive_coeff = zip(*sorted(zip(positive_x, positive_coeff), key=lambda x: x[1]))   \n",
    "negative_x, negative_coeff = zip(*sorted(zip(negative_x, negative_coeff), key=lambda x: x[1]))\n",
    "\n",
    "\n",
    "# Creating pos \n",
    "yPos_negative = list(range(len(negative_x)))\n",
    "yPos_positive = list(range(len(negative_x), len(X_nb)))\n",
    "\n",
    "# Plotting the horizontal bar chart\n",
    "plt.barh(yPos_negative,  negative_coeff,  height =0.4, color='red') \n",
    "plt.barh(yPos_positive,  positive_coeff,  height =0.4, color='green') \n",
    "\n",
    "# Setting xticks to have the same `pos` as bars \n",
    "plt.yticks(yPos_negative + yPos_positive, negative_x + positive_x)\n",
    "\n",
    "# Setting xlabel\n",
    "plt.xlabel('Plot of Positive and Negative Coefficients')\n",
    "\n",
    "#  Setting a title, and axes labels\n",
    "plt.title('Results of OLS model')       \n"
   ]
  },
  {
   "cell_type": "markdown",
   "metadata": {},
   "source": [
    "## TASK 8: Tuning\n",
    "\n",
    "Some things to try:\n",
    "1) Change \"k\" in knn    \n",
    "2) Remove variables with high \"VIF\"\n",
    "3) Remove variables that are highly correlated to the ones you've generated\n",
    "4) Change the parameters of the Random Forest Regression\n",
    "5) Change the threshold for feature selection\n",
    "\n",
    "How do the above impact the R2 and MSE of the OLS regression (You want R2 to go up and MSE to decrease)."
   ]
  }
 ],
 "metadata": {
  "kernelspec": {
   "display_name": "Python 3",
   "language": "python",
   "name": "python3"
  },
  "language_info": {
   "codemirror_mode": {
    "name": "ipython",
    "version": 3
   },
   "file_extension": ".py",
   "mimetype": "text/x-python",
   "name": "python",
   "nbconvert_exporter": "python",
   "pygments_lexer": "ipython3",
   "version": "3.7.3"
  }
 },
 "nbformat": 4,
 "nbformat_minor": 2
}
